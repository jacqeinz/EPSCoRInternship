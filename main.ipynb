{
  "cells": [
    {
      "cell_type": "markdown",
      "metadata": {
        "id": "view-in-github",
        "colab_type": "text"
      },
      "source": [
        "<a href=\"https://colab.research.google.com/github/jacqeinz/EPSCoRInternship/blob/main/main.ipynb\" target=\"_parent\"><img src=\"https://colab.research.google.com/assets/colab-badge.svg\" alt=\"Open In Colab\"/></a>"
      ]
    },
    {
      "cell_type": "markdown",
      "metadata": {
        "id": "BAGQynBAfuI9"
      },
      "source": [
        "# STEMAP 2023 Project\n",
        "- Team Member: Jaqueline Chavez, Alanah Cheng, Angelah Magofna\n",
        "- Graduate Mentor: Ruobin Qi\n",
        "---\n",
        "- General WorkFlow\n",
        "    1. import the required libraries\n",
        "    2. Read the data as pandas dataframe\n",
        "    3. Data Preprocessing\n",
        "    4. Data Normalization\n",
        "    5. Feature Extraction (PCA / Auto-Encoder (Optional))\n",
        "    6. Machine Learning and Evaluation"
      ]
    },
    {
      "cell_type": "markdown",
      "metadata": {
        "id": "El8YARN9fuJB"
      },
      "source": [
        "## Install and import the required libraries\n",
        "### Install libraries"
      ]
    },
    {
      "cell_type": "code",
      "execution_count": null,
      "metadata": {
        "colab": {
          "base_uri": "https://localhost:8080/"
        },
        "id": "hm6S8O88gLSL",
        "outputId": "aae0dcba-ec11-4b26-8f5d-5f04b63b6bbd"
      },
      "outputs": [
        {
          "output_type": "stream",
          "name": "stdout",
          "text": [
            "Collecting pyod\n",
            "  Downloading pyod-1.1.0.tar.gz (153 kB)\n",
            "\u001b[2K     \u001b[90m━━━━━━━━━━━━━━━━━━━━━━━━━━━━━━━━━━━━━━━\u001b[0m \u001b[32m153.4/153.4 kB\u001b[0m \u001b[31m1.4 MB/s\u001b[0m eta \u001b[36m0:00:00\u001b[0m\n",
            "\u001b[?25h  Preparing metadata (setup.py) ... \u001b[?25l\u001b[?25hdone\n",
            "Requirement already satisfied: joblib in /usr/local/lib/python3.10/dist-packages (from pyod) (1.3.1)\n",
            "Requirement already satisfied: matplotlib in /usr/local/lib/python3.10/dist-packages (from pyod) (3.7.1)\n",
            "Requirement already satisfied: numpy>=1.19 in /usr/local/lib/python3.10/dist-packages (from pyod) (1.22.4)\n",
            "Requirement already satisfied: numba>=0.51 in /usr/local/lib/python3.10/dist-packages (from pyod) (0.56.4)\n",
            "Requirement already satisfied: scipy>=1.5.1 in /usr/local/lib/python3.10/dist-packages (from pyod) (1.10.1)\n",
            "Requirement already satisfied: scikit_learn>=0.20.0 in /usr/local/lib/python3.10/dist-packages (from pyod) (1.2.2)\n",
            "Requirement already satisfied: six in /usr/local/lib/python3.10/dist-packages (from pyod) (1.16.0)\n",
            "Requirement already satisfied: llvmlite<0.40,>=0.39.0dev0 in /usr/local/lib/python3.10/dist-packages (from numba>=0.51->pyod) (0.39.1)\n",
            "Requirement already satisfied: setuptools in /usr/local/lib/python3.10/dist-packages (from numba>=0.51->pyod) (67.7.2)\n",
            "Requirement already satisfied: threadpoolctl>=2.0.0 in /usr/local/lib/python3.10/dist-packages (from scikit_learn>=0.20.0->pyod) (3.1.0)\n",
            "Requirement already satisfied: contourpy>=1.0.1 in /usr/local/lib/python3.10/dist-packages (from matplotlib->pyod) (1.1.0)\n",
            "Requirement already satisfied: cycler>=0.10 in /usr/local/lib/python3.10/dist-packages (from matplotlib->pyod) (0.11.0)\n",
            "Requirement already satisfied: fonttools>=4.22.0 in /usr/local/lib/python3.10/dist-packages (from matplotlib->pyod) (4.41.0)\n",
            "Requirement already satisfied: kiwisolver>=1.0.1 in /usr/local/lib/python3.10/dist-packages (from matplotlib->pyod) (1.4.4)\n",
            "Requirement already satisfied: packaging>=20.0 in /usr/local/lib/python3.10/dist-packages (from matplotlib->pyod) (23.1)\n",
            "Requirement already satisfied: pillow>=6.2.0 in /usr/local/lib/python3.10/dist-packages (from matplotlib->pyod) (8.4.0)\n",
            "Requirement already satisfied: pyparsing>=2.3.1 in /usr/local/lib/python3.10/dist-packages (from matplotlib->pyod) (3.1.0)\n",
            "Requirement already satisfied: python-dateutil>=2.7 in /usr/local/lib/python3.10/dist-packages (from matplotlib->pyod) (2.8.2)\n",
            "Building wheels for collected packages: pyod\n",
            "  Building wheel for pyod (setup.py) ... \u001b[?25l\u001b[?25hdone\n",
            "  Created wheel for pyod: filename=pyod-1.1.0-py3-none-any.whl size=185331 sha256=edeaf9fa1a9a2fc6fc1efce47b949108ad8138e88390379162cbc5b3e6ba815d\n",
            "  Stored in directory: /root/.cache/pip/wheels/36/8e/e2/e932956b10b843eb6be9eefa70b5c1bee7b561be14c423b136\n",
            "Successfully built pyod\n",
            "Installing collected packages: pyod\n",
            "Successfully installed pyod-1.1.0\n"
          ]
        }
      ],
      "source": [
        "!pip install pyod"
      ]
    },
    {
      "cell_type": "markdown",
      "metadata": {
        "id": "jESiMayRM2ye"
      },
      "source": [
        "---\n",
        "## **Week 3**"
      ]
    },
    {
      "cell_type": "markdown",
      "metadata": {
        "id": "Er6q8rzrMc-h"
      },
      "source": [
        "###Import libraries"
      ]
    },
    {
      "cell_type": "code",
      "execution_count": null,
      "metadata": {
        "id": "W0L-I2NkfuJC"
      },
      "outputs": [],
      "source": [
        "import numpy as np\n",
        "# Todo"
      ]
    },
    {
      "cell_type": "code",
      "execution_count": null,
      "metadata": {
        "colab": {
          "base_uri": "https://localhost:8080/"
        },
        "id": "Bjy7Lj6whRAn",
        "outputId": "7f5ad5ae-d74e-415a-8156-8c3db7cca9e5"
      },
      "outputs": [
        {
          "output_type": "stream",
          "name": "stdout",
          "text": [
            "Mounted at /content/drive\n",
            "data10.csv  data13.csv\tdata1.csv  data4.csv  data7.csv\n",
            "data11.csv  data14.csv\tdata2.csv  data5.csv  data8.csv\n",
            "data12.csv  data15.csv\tdata3.csv  data6.csv  data9.csv\n"
          ]
        }
      ],
      "source": [
        "# Remove or comment this block if the notebook is running on the local environment\n",
        "from google.colab import drive\n",
        "drive.mount('/content/drive')\n",
        "# All 15 datasets (*.csv) should shown in the outputs\n",
        "!ls drive/Shareddrives/STEMAP\\ 2023/dataset/"
      ]
    },
    {
      "cell_type": "markdown",
      "metadata": {
        "id": "VRD3aBxvfuJD"
      },
      "source": [
        "## Read the data as pandas dataframe\n"
      ]
    },
    {
      "cell_type": "code",
      "execution_count": null,
      "metadata": {
        "colab": {
          "base_uri": "https://localhost:8080/",
          "height": 505
        },
        "id": "3HOwBfNDfuJD",
        "outputId": "b9f86968-155e-4c07-8160-37b2c7589497"
      },
      "outputs": [
        {
          "output_type": "execute_result",
          "data": {
            "text/plain": [
              "      R1-PA1:VH     R1-PM1:V  R1-PA2:VH     R1-PM2:V   R1-PA3:VH     R1-PM3:V  \\\n",
              "0     70.399324  127673.0908 -49.572308  127648.0176 -169.578319  127723.2374   \n",
              "1     73.688102  130280.7109 -46.300719  130255.6377 -166.278082  130355.9307   \n",
              "2     73.733939  130305.7842 -46.254883  130280.7109 -166.232245  130381.0040   \n",
              "3     74.083443  130581.5902 -45.899649  130556.5169 -165.882741  130656.8100   \n",
              "4     74.553268  131083.0556 -45.424094  131057.9823 -165.424375  131158.2754   \n",
              "...         ...          ...        ...          ...         ...          ...   \n",
              "4961  28.229631  130882.4694 -91.730543  130882.4694  148.264289  130957.6892   \n",
              "4962  28.195253  130957.6892 -91.770650  130932.6159  148.224182  131032.9090   \n",
              "4963  28.000447  131057.9823 -91.971185  131057.9823  148.035105  131133.2021   \n",
              "4964  27.971800  131083.0556 -91.994104  131057.9823  148.006458  131133.2021   \n",
              "4965  27.931693  131083.0556 -92.034211  131057.9823  147.966351  131133.2021   \n",
              "\n",
              "      R1-PA4:IH   R1-PM4:I  R1-PA5:IH   R1-PM5:I  ...  control_panel_log4  \\\n",
              "0     65.689611  605.91099 -57.003571  626.78553  ...                   0   \n",
              "1     71.831719  483.59351 -50.947407  500.98896  ...                   0   \n",
              "2     71.808800  483.59351 -50.913030  500.98896  ...                   0   \n",
              "3     72.152575  482.86107 -50.437475  499.15786  ...                   0   \n",
              "4     72.118198  484.50906 -50.013486  497.69298  ...                   0   \n",
              "...         ...        ...        ...        ...  ...                 ...   \n",
              "4961  25.553918  459.42299 -95.683952  466.93050  ...                   0   \n",
              "4962  25.267439  460.70476 -95.752707  467.66294  ...                   0   \n",
              "4963  24.316329  464.36696 -96.251180  468.94471  ...                   0   \n",
              "4964  24.259033  464.18385 -96.314205  469.12782  ...                   0   \n",
              "4965  24.241844  464.00074 -96.342853  469.12782  ...                   0   \n",
              "\n",
              "      relay1_log  relay2_log  relay3_log  relay4_log  snort_log1  snort_log2  \\\n",
              "0              0           0           0           0           0           0   \n",
              "1              0           0           0           0           0           0   \n",
              "2              0           0           0           0           0           0   \n",
              "3              0           0           0           0           0           0   \n",
              "4              0           0           0           0           0           0   \n",
              "...          ...         ...         ...         ...         ...         ...   \n",
              "4961           0           0           0           0           0           0   \n",
              "4962           0           0           0           0           0           0   \n",
              "4963           0           0           0           0           0           0   \n",
              "4964           0           0           0           0           0           0   \n",
              "4965           0           0           0           0           0           0   \n",
              "\n",
              "      snort_log3  snort_log4   marker  \n",
              "0              0           0  Natural  \n",
              "1              0           0  Natural  \n",
              "2              0           0  Natural  \n",
              "3              0           0  Natural  \n",
              "4              0           0  Natural  \n",
              "...          ...         ...      ...  \n",
              "4961           0           0  Natural  \n",
              "4962           0           0  Natural  \n",
              "4963           0           0  Natural  \n",
              "4964           0           0  Natural  \n",
              "4965           0           0  Natural  \n",
              "\n",
              "[4966 rows x 129 columns]"
            ],
            "text/html": [
              "\n",
              "\n",
              "  <div id=\"df-b7bd57c1-0258-4757-9782-0da2e6164428\">\n",
              "    <div class=\"colab-df-container\">\n",
              "      <div>\n",
              "<style scoped>\n",
              "    .dataframe tbody tr th:only-of-type {\n",
              "        vertical-align: middle;\n",
              "    }\n",
              "\n",
              "    .dataframe tbody tr th {\n",
              "        vertical-align: top;\n",
              "    }\n",
              "\n",
              "    .dataframe thead th {\n",
              "        text-align: right;\n",
              "    }\n",
              "</style>\n",
              "<table border=\"1\" class=\"dataframe\">\n",
              "  <thead>\n",
              "    <tr style=\"text-align: right;\">\n",
              "      <th></th>\n",
              "      <th>R1-PA1:VH</th>\n",
              "      <th>R1-PM1:V</th>\n",
              "      <th>R1-PA2:VH</th>\n",
              "      <th>R1-PM2:V</th>\n",
              "      <th>R1-PA3:VH</th>\n",
              "      <th>R1-PM3:V</th>\n",
              "      <th>R1-PA4:IH</th>\n",
              "      <th>R1-PM4:I</th>\n",
              "      <th>R1-PA5:IH</th>\n",
              "      <th>R1-PM5:I</th>\n",
              "      <th>...</th>\n",
              "      <th>control_panel_log4</th>\n",
              "      <th>relay1_log</th>\n",
              "      <th>relay2_log</th>\n",
              "      <th>relay3_log</th>\n",
              "      <th>relay4_log</th>\n",
              "      <th>snort_log1</th>\n",
              "      <th>snort_log2</th>\n",
              "      <th>snort_log3</th>\n",
              "      <th>snort_log4</th>\n",
              "      <th>marker</th>\n",
              "    </tr>\n",
              "  </thead>\n",
              "  <tbody>\n",
              "    <tr>\n",
              "      <th>0</th>\n",
              "      <td>70.399324</td>\n",
              "      <td>127673.0908</td>\n",
              "      <td>-49.572308</td>\n",
              "      <td>127648.0176</td>\n",
              "      <td>-169.578319</td>\n",
              "      <td>127723.2374</td>\n",
              "      <td>65.689611</td>\n",
              "      <td>605.91099</td>\n",
              "      <td>-57.003571</td>\n",
              "      <td>626.78553</td>\n",
              "      <td>...</td>\n",
              "      <td>0</td>\n",
              "      <td>0</td>\n",
              "      <td>0</td>\n",
              "      <td>0</td>\n",
              "      <td>0</td>\n",
              "      <td>0</td>\n",
              "      <td>0</td>\n",
              "      <td>0</td>\n",
              "      <td>0</td>\n",
              "      <td>Natural</td>\n",
              "    </tr>\n",
              "    <tr>\n",
              "      <th>1</th>\n",
              "      <td>73.688102</td>\n",
              "      <td>130280.7109</td>\n",
              "      <td>-46.300719</td>\n",
              "      <td>130255.6377</td>\n",
              "      <td>-166.278082</td>\n",
              "      <td>130355.9307</td>\n",
              "      <td>71.831719</td>\n",
              "      <td>483.59351</td>\n",
              "      <td>-50.947407</td>\n",
              "      <td>500.98896</td>\n",
              "      <td>...</td>\n",
              "      <td>0</td>\n",
              "      <td>0</td>\n",
              "      <td>0</td>\n",
              "      <td>0</td>\n",
              "      <td>0</td>\n",
              "      <td>0</td>\n",
              "      <td>0</td>\n",
              "      <td>0</td>\n",
              "      <td>0</td>\n",
              "      <td>Natural</td>\n",
              "    </tr>\n",
              "    <tr>\n",
              "      <th>2</th>\n",
              "      <td>73.733939</td>\n",
              "      <td>130305.7842</td>\n",
              "      <td>-46.254883</td>\n",
              "      <td>130280.7109</td>\n",
              "      <td>-166.232245</td>\n",
              "      <td>130381.0040</td>\n",
              "      <td>71.808800</td>\n",
              "      <td>483.59351</td>\n",
              "      <td>-50.913030</td>\n",
              "      <td>500.98896</td>\n",
              "      <td>...</td>\n",
              "      <td>0</td>\n",
              "      <td>0</td>\n",
              "      <td>0</td>\n",
              "      <td>0</td>\n",
              "      <td>0</td>\n",
              "      <td>0</td>\n",
              "      <td>0</td>\n",
              "      <td>0</td>\n",
              "      <td>0</td>\n",
              "      <td>Natural</td>\n",
              "    </tr>\n",
              "    <tr>\n",
              "      <th>3</th>\n",
              "      <td>74.083443</td>\n",
              "      <td>130581.5902</td>\n",
              "      <td>-45.899649</td>\n",
              "      <td>130556.5169</td>\n",
              "      <td>-165.882741</td>\n",
              "      <td>130656.8100</td>\n",
              "      <td>72.152575</td>\n",
              "      <td>482.86107</td>\n",
              "      <td>-50.437475</td>\n",
              "      <td>499.15786</td>\n",
              "      <td>...</td>\n",
              "      <td>0</td>\n",
              "      <td>0</td>\n",
              "      <td>0</td>\n",
              "      <td>0</td>\n",
              "      <td>0</td>\n",
              "      <td>0</td>\n",
              "      <td>0</td>\n",
              "      <td>0</td>\n",
              "      <td>0</td>\n",
              "      <td>Natural</td>\n",
              "    </tr>\n",
              "    <tr>\n",
              "      <th>4</th>\n",
              "      <td>74.553268</td>\n",
              "      <td>131083.0556</td>\n",
              "      <td>-45.424094</td>\n",
              "      <td>131057.9823</td>\n",
              "      <td>-165.424375</td>\n",
              "      <td>131158.2754</td>\n",
              "      <td>72.118198</td>\n",
              "      <td>484.50906</td>\n",
              "      <td>-50.013486</td>\n",
              "      <td>497.69298</td>\n",
              "      <td>...</td>\n",
              "      <td>0</td>\n",
              "      <td>0</td>\n",
              "      <td>0</td>\n",
              "      <td>0</td>\n",
              "      <td>0</td>\n",
              "      <td>0</td>\n",
              "      <td>0</td>\n",
              "      <td>0</td>\n",
              "      <td>0</td>\n",
              "      <td>Natural</td>\n",
              "    </tr>\n",
              "    <tr>\n",
              "      <th>...</th>\n",
              "      <td>...</td>\n",
              "      <td>...</td>\n",
              "      <td>...</td>\n",
              "      <td>...</td>\n",
              "      <td>...</td>\n",
              "      <td>...</td>\n",
              "      <td>...</td>\n",
              "      <td>...</td>\n",
              "      <td>...</td>\n",
              "      <td>...</td>\n",
              "      <td>...</td>\n",
              "      <td>...</td>\n",
              "      <td>...</td>\n",
              "      <td>...</td>\n",
              "      <td>...</td>\n",
              "      <td>...</td>\n",
              "      <td>...</td>\n",
              "      <td>...</td>\n",
              "      <td>...</td>\n",
              "      <td>...</td>\n",
              "      <td>...</td>\n",
              "    </tr>\n",
              "    <tr>\n",
              "      <th>4961</th>\n",
              "      <td>28.229631</td>\n",
              "      <td>130882.4694</td>\n",
              "      <td>-91.730543</td>\n",
              "      <td>130882.4694</td>\n",
              "      <td>148.264289</td>\n",
              "      <td>130957.6892</td>\n",
              "      <td>25.553918</td>\n",
              "      <td>459.42299</td>\n",
              "      <td>-95.683952</td>\n",
              "      <td>466.93050</td>\n",
              "      <td>...</td>\n",
              "      <td>0</td>\n",
              "      <td>0</td>\n",
              "      <td>0</td>\n",
              "      <td>0</td>\n",
              "      <td>0</td>\n",
              "      <td>0</td>\n",
              "      <td>0</td>\n",
              "      <td>0</td>\n",
              "      <td>0</td>\n",
              "      <td>Natural</td>\n",
              "    </tr>\n",
              "    <tr>\n",
              "      <th>4962</th>\n",
              "      <td>28.195253</td>\n",
              "      <td>130957.6892</td>\n",
              "      <td>-91.770650</td>\n",
              "      <td>130932.6159</td>\n",
              "      <td>148.224182</td>\n",
              "      <td>131032.9090</td>\n",
              "      <td>25.267439</td>\n",
              "      <td>460.70476</td>\n",
              "      <td>-95.752707</td>\n",
              "      <td>467.66294</td>\n",
              "      <td>...</td>\n",
              "      <td>0</td>\n",
              "      <td>0</td>\n",
              "      <td>0</td>\n",
              "      <td>0</td>\n",
              "      <td>0</td>\n",
              "      <td>0</td>\n",
              "      <td>0</td>\n",
              "      <td>0</td>\n",
              "      <td>0</td>\n",
              "      <td>Natural</td>\n",
              "    </tr>\n",
              "    <tr>\n",
              "      <th>4963</th>\n",
              "      <td>28.000447</td>\n",
              "      <td>131057.9823</td>\n",
              "      <td>-91.971185</td>\n",
              "      <td>131057.9823</td>\n",
              "      <td>148.035105</td>\n",
              "      <td>131133.2021</td>\n",
              "      <td>24.316329</td>\n",
              "      <td>464.36696</td>\n",
              "      <td>-96.251180</td>\n",
              "      <td>468.94471</td>\n",
              "      <td>...</td>\n",
              "      <td>0</td>\n",
              "      <td>0</td>\n",
              "      <td>0</td>\n",
              "      <td>0</td>\n",
              "      <td>0</td>\n",
              "      <td>0</td>\n",
              "      <td>0</td>\n",
              "      <td>0</td>\n",
              "      <td>0</td>\n",
              "      <td>Natural</td>\n",
              "    </tr>\n",
              "    <tr>\n",
              "      <th>4964</th>\n",
              "      <td>27.971800</td>\n",
              "      <td>131083.0556</td>\n",
              "      <td>-91.994104</td>\n",
              "      <td>131057.9823</td>\n",
              "      <td>148.006458</td>\n",
              "      <td>131133.2021</td>\n",
              "      <td>24.259033</td>\n",
              "      <td>464.18385</td>\n",
              "      <td>-96.314205</td>\n",
              "      <td>469.12782</td>\n",
              "      <td>...</td>\n",
              "      <td>0</td>\n",
              "      <td>0</td>\n",
              "      <td>0</td>\n",
              "      <td>0</td>\n",
              "      <td>0</td>\n",
              "      <td>0</td>\n",
              "      <td>0</td>\n",
              "      <td>0</td>\n",
              "      <td>0</td>\n",
              "      <td>Natural</td>\n",
              "    </tr>\n",
              "    <tr>\n",
              "      <th>4965</th>\n",
              "      <td>27.931693</td>\n",
              "      <td>131083.0556</td>\n",
              "      <td>-92.034211</td>\n",
              "      <td>131057.9823</td>\n",
              "      <td>147.966351</td>\n",
              "      <td>131133.2021</td>\n",
              "      <td>24.241844</td>\n",
              "      <td>464.00074</td>\n",
              "      <td>-96.342853</td>\n",
              "      <td>469.12782</td>\n",
              "      <td>...</td>\n",
              "      <td>0</td>\n",
              "      <td>0</td>\n",
              "      <td>0</td>\n",
              "      <td>0</td>\n",
              "      <td>0</td>\n",
              "      <td>0</td>\n",
              "      <td>0</td>\n",
              "      <td>0</td>\n",
              "      <td>0</td>\n",
              "      <td>Natural</td>\n",
              "    </tr>\n",
              "  </tbody>\n",
              "</table>\n",
              "<p>4966 rows × 129 columns</p>\n",
              "</div>\n",
              "      <button class=\"colab-df-convert\" onclick=\"convertToInteractive('df-b7bd57c1-0258-4757-9782-0da2e6164428')\"\n",
              "              title=\"Convert this dataframe to an interactive table.\"\n",
              "              style=\"display:none;\">\n",
              "\n",
              "  <svg xmlns=\"http://www.w3.org/2000/svg\" height=\"24px\"viewBox=\"0 0 24 24\"\n",
              "       width=\"24px\">\n",
              "    <path d=\"M0 0h24v24H0V0z\" fill=\"none\"/>\n",
              "    <path d=\"M18.56 5.44l.94 2.06.94-2.06 2.06-.94-2.06-.94-.94-2.06-.94 2.06-2.06.94zm-11 1L8.5 8.5l.94-2.06 2.06-.94-2.06-.94L8.5 2.5l-.94 2.06-2.06.94zm10 10l.94 2.06.94-2.06 2.06-.94-2.06-.94-.94-2.06-.94 2.06-2.06.94z\"/><path d=\"M17.41 7.96l-1.37-1.37c-.4-.4-.92-.59-1.43-.59-.52 0-1.04.2-1.43.59L10.3 9.45l-7.72 7.72c-.78.78-.78 2.05 0 2.83L4 21.41c.39.39.9.59 1.41.59.51 0 1.02-.2 1.41-.59l7.78-7.78 2.81-2.81c.8-.78.8-2.07 0-2.86zM5.41 20L4 18.59l7.72-7.72 1.47 1.35L5.41 20z\"/>\n",
              "  </svg>\n",
              "      </button>\n",
              "\n",
              "\n",
              "\n",
              "    <div id=\"df-87161347-f8fa-407b-b771-ed4b9938311a\">\n",
              "      <button class=\"colab-df-quickchart\" onclick=\"quickchart('df-87161347-f8fa-407b-b771-ed4b9938311a')\"\n",
              "              title=\"Suggest charts.\"\n",
              "              style=\"display:none;\">\n",
              "\n",
              "<svg xmlns=\"http://www.w3.org/2000/svg\" height=\"24px\"viewBox=\"0 0 24 24\"\n",
              "     width=\"24px\">\n",
              "    <g>\n",
              "        <path d=\"M19 3H5c-1.1 0-2 .9-2 2v14c0 1.1.9 2 2 2h14c1.1 0 2-.9 2-2V5c0-1.1-.9-2-2-2zM9 17H7v-7h2v7zm4 0h-2V7h2v10zm4 0h-2v-4h2v4z\"/>\n",
              "    </g>\n",
              "</svg>\n",
              "      </button>\n",
              "    </div>\n",
              "\n",
              "<style>\n",
              "  .colab-df-quickchart {\n",
              "    background-color: #E8F0FE;\n",
              "    border: none;\n",
              "    border-radius: 50%;\n",
              "    cursor: pointer;\n",
              "    display: none;\n",
              "    fill: #1967D2;\n",
              "    height: 32px;\n",
              "    padding: 0 0 0 0;\n",
              "    width: 32px;\n",
              "  }\n",
              "\n",
              "  .colab-df-quickchart:hover {\n",
              "    background-color: #E2EBFA;\n",
              "    box-shadow: 0px 1px 2px rgba(60, 64, 67, 0.3), 0px 1px 3px 1px rgba(60, 64, 67, 0.15);\n",
              "    fill: #174EA6;\n",
              "  }\n",
              "\n",
              "  [theme=dark] .colab-df-quickchart {\n",
              "    background-color: #3B4455;\n",
              "    fill: #D2E3FC;\n",
              "  }\n",
              "\n",
              "  [theme=dark] .colab-df-quickchart:hover {\n",
              "    background-color: #434B5C;\n",
              "    box-shadow: 0px 1px 3px 1px rgba(0, 0, 0, 0.15);\n",
              "    filter: drop-shadow(0px 1px 2px rgba(0, 0, 0, 0.3));\n",
              "    fill: #FFFFFF;\n",
              "  }\n",
              "</style>\n",
              "\n",
              "    <script>\n",
              "      async function quickchart(key) {\n",
              "        const containerElement = document.querySelector('#' + key);\n",
              "        const charts = await google.colab.kernel.invokeFunction(\n",
              "            'suggestCharts', [key], {});\n",
              "      }\n",
              "    </script>\n",
              "\n",
              "      <script>\n",
              "\n",
              "function displayQuickchartButton(domScope) {\n",
              "  let quickchartButtonEl =\n",
              "    domScope.querySelector('#df-87161347-f8fa-407b-b771-ed4b9938311a button.colab-df-quickchart');\n",
              "  quickchartButtonEl.style.display =\n",
              "    google.colab.kernel.accessAllowed ? 'block' : 'none';\n",
              "}\n",
              "\n",
              "        displayQuickchartButton(document);\n",
              "      </script>\n",
              "      <style>\n",
              "    .colab-df-container {\n",
              "      display:flex;\n",
              "      flex-wrap:wrap;\n",
              "      gap: 12px;\n",
              "    }\n",
              "\n",
              "    .colab-df-convert {\n",
              "      background-color: #E8F0FE;\n",
              "      border: none;\n",
              "      border-radius: 50%;\n",
              "      cursor: pointer;\n",
              "      display: none;\n",
              "      fill: #1967D2;\n",
              "      height: 32px;\n",
              "      padding: 0 0 0 0;\n",
              "      width: 32px;\n",
              "    }\n",
              "\n",
              "    .colab-df-convert:hover {\n",
              "      background-color: #E2EBFA;\n",
              "      box-shadow: 0px 1px 2px rgba(60, 64, 67, 0.3), 0px 1px 3px 1px rgba(60, 64, 67, 0.15);\n",
              "      fill: #174EA6;\n",
              "    }\n",
              "\n",
              "    [theme=dark] .colab-df-convert {\n",
              "      background-color: #3B4455;\n",
              "      fill: #D2E3FC;\n",
              "    }\n",
              "\n",
              "    [theme=dark] .colab-df-convert:hover {\n",
              "      background-color: #434B5C;\n",
              "      box-shadow: 0px 1px 3px 1px rgba(0, 0, 0, 0.15);\n",
              "      filter: drop-shadow(0px 1px 2px rgba(0, 0, 0, 0.3));\n",
              "      fill: #FFFFFF;\n",
              "    }\n",
              "  </style>\n",
              "\n",
              "      <script>\n",
              "        const buttonEl =\n",
              "          document.querySelector('#df-b7bd57c1-0258-4757-9782-0da2e6164428 button.colab-df-convert');\n",
              "        buttonEl.style.display =\n",
              "          google.colab.kernel.accessAllowed ? 'block' : 'none';\n",
              "\n",
              "        async function convertToInteractive(key) {\n",
              "          const element = document.querySelector('#df-b7bd57c1-0258-4757-9782-0da2e6164428');\n",
              "          const dataTable =\n",
              "            await google.colab.kernel.invokeFunction('convertToInteractive',\n",
              "                                                     [key], {});\n",
              "          if (!dataTable) return;\n",
              "\n",
              "          const docLinkHtml = 'Like what you see? Visit the ' +\n",
              "            '<a target=\"_blank\" href=https://colab.research.google.com/notebooks/data_table.ipynb>data table notebook</a>'\n",
              "            + ' to learn more about interactive tables.';\n",
              "          element.innerHTML = '';\n",
              "          dataTable['output_type'] = 'display_data';\n",
              "          await google.colab.output.renderOutput(dataTable, element);\n",
              "          const docLink = document.createElement('div');\n",
              "          docLink.innerHTML = docLinkHtml;\n",
              "          element.appendChild(docLink);\n",
              "        }\n",
              "      </script>\n",
              "    </div>\n",
              "  </div>\n"
            ]
          },
          "metadata": {},
          "execution_count": 5
        }
      ],
      "source": [
        "import pandas as pd\n",
        "# Edit the following line if the Dataset are located in different directory\n",
        "data = pd.read_csv('drive/Shareddrives/STEMAP 2023/dataset/data1.csv')\n",
        "# A table will shown below if the data is read by the notebook correctly\n",
        "data"
      ]
    },
    {
      "cell_type": "markdown",
      "metadata": {
        "id": "Jb0RsfZMfuJE"
      },
      "source": [
        "### Drop the log column and remove the data points (row) that contain infinite or NaN values"
      ]
    },
    {
      "cell_type": "code",
      "execution_count": null,
      "metadata": {
        "colab": {
          "base_uri": "https://localhost:8080/"
        },
        "id": "CXPh78LIc7iQ",
        "outputId": "e721ff01-e4aa-4748-817b-5724db0e0293"
      },
      "outputs": [
        {
          "output_type": "execute_result",
          "data": {
            "text/plain": [
              "(4966, 117)"
            ]
          },
          "metadata": {},
          "execution_count": 6
        }
      ],
      "source": [
        "# Original data shape\n",
        "data.shape\n",
        "data = data[data.columns.drop(list(data.filter(regex='log')))]\n",
        "data.shape"
      ]
    },
    {
      "cell_type": "markdown",
      "metadata": {
        "id": "stLEBzNhdZel"
      },
      "source": [
        "- There are 4966 rows and 129 columns"
      ]
    },
    {
      "cell_type": "code",
      "execution_count": null,
      "metadata": {
        "colab": {
          "base_uri": "https://localhost:8080/"
        },
        "id": "Id6iFQNFff74",
        "outputId": "2958b036-e975-43fa-8652-97b2953dc500"
      },
      "outputs": [
        {
          "output_type": "stream",
          "name": "stderr",
          "text": [
            "<ipython-input-7-40b631ad805d>:2: SettingWithCopyWarning: \n",
            "A value is trying to be set on a copy of a slice from a DataFrame\n",
            "\n",
            "See the caveats in the documentation: https://pandas.pydata.org/pandas-docs/stable/user_guide/indexing.html#returning-a-view-versus-a-copy\n",
            "  data.replace(np.inf, np.nan, inplace=True)\n",
            "<ipython-input-7-40b631ad805d>:3: SettingWithCopyWarning: \n",
            "A value is trying to be set on a copy of a slice from a DataFrame\n",
            "\n",
            "See the caveats in the documentation: https://pandas.pydata.org/pandas-docs/stable/user_guide/indexing.html#returning-a-view-versus-a-copy\n",
            "  data.replace(-np.inf, np.nan, inplace=True)\n"
          ]
        },
        {
          "output_type": "execute_result",
          "data": {
            "text/plain": [
              "True"
            ]
          },
          "metadata": {},
          "execution_count": 7
        }
      ],
      "source": [
        "# Replace the infinite value by null values\n",
        "data.replace(np.inf, np.nan, inplace=True)\n",
        "data.replace(-np.inf, np.nan, inplace=True)\n",
        "# Check if there are any null or infinite value in the dataframe\n",
        "data.isnull().any().any()"
      ]
    },
    {
      "cell_type": "markdown",
      "metadata": {
        "id": "2IFyXA1chtCR"
      },
      "source": [
        "- The original dataset contains null value or infinite value\n",
        "- Drop the rows (data records) that contain these values, the easiest way should be `DataFrame.dropna()` function.\n",
        "- After this procedure, we should expect the above data block return False and the dataframe should have less rows (number of columns should remain unchanged)."
      ]
    },
    {
      "cell_type": "markdown",
      "metadata": {
        "id": "WzXElgUVe3rx"
      },
      "source": [
        "- `DataFrame.iloc[]` slice the dataframe by indicies or columns, since we only need first 29*4=116 features, the rest columns which are log data and they are useless. The example shown above slice the column from 116th and end up with last second column, which is all the log column you need to remove.\n",
        "- Do NOT edit the original dataset (csv data)!\n",
        "- After your code, the data should only contain 116 columns (features). Or 117 if the marker column is included.\n",
        "- The marker (label) column should also be stored for the further process"
      ]
    },
    {
      "cell_type": "code",
      "execution_count": null,
      "metadata": {
        "id": "5-lFSR9JfuJE"
      },
      "outputs": [],
      "source": [
        "# Assignment for week three\n",
        "# Todo"
      ]
    },
    {
      "cell_type": "code",
      "execution_count": null,
      "metadata": {
        "id": "uk7hC5OjCx4s"
      },
      "outputs": [],
      "source": []
    },
    {
      "cell_type": "markdown",
      "metadata": {
        "id": "SmRRrRaBlb03"
      },
      "source": [
        "- Check your code by running this block"
      ]
    },
    {
      "cell_type": "code",
      "execution_count": null,
      "metadata": {
        "colab": {
          "base_uri": "https://localhost:8080/"
        },
        "id": "w51p2Yk2jh1h",
        "outputId": "9a06767d-a33a-444c-b638-7503b4a6d50b"
      },
      "outputs": [
        {
          "output_type": "stream",
          "name": "stdout",
          "text": [
            "False\n",
            "0\n",
            "(4618, 117)\n"
          ]
        },
        {
          "output_type": "stream",
          "name": "stderr",
          "text": [
            "<ipython-input-9-8a91246370ad>:3: SettingWithCopyWarning: \n",
            "A value is trying to be set on a copy of a slice from a DataFrame\n",
            "\n",
            "See the caveats in the documentation: https://pandas.pydata.org/pandas-docs/stable/user_guide/indexing.html#returning-a-view-versus-a-copy\n",
            "  copy_data.replace(np.inf, np.nan, inplace=True)\n",
            "<ipython-input-9-8a91246370ad>:4: SettingWithCopyWarning: \n",
            "A value is trying to be set on a copy of a slice from a DataFrame\n",
            "\n",
            "See the caveats in the documentation: https://pandas.pydata.org/pandas-docs/stable/user_guide/indexing.html#returning-a-view-versus-a-copy\n",
            "  copy_data.replace(-np.inf, np.nan, inplace=True)\n"
          ]
        }
      ],
      "source": [
        "\n",
        "# Replace the infinite value by null values\n",
        "copy_data = data.dropna(axis=0) #makes copy of data and drops na values as instructed\n",
        "copy_data.replace(np.inf, np.nan, inplace=True)\n",
        "copy_data.replace(-np.inf, np.nan, inplace=True)\n",
        "# Check if there are any null or infinite value in the dataframe\n",
        "print(copy_data.isnull().any().any()) # Should return false\n",
        "print(len([col for col in copy_data.columns if 'log' in col])) # Check number of columns which name has word \"log\". Should return 0.\n",
        "print(copy_data.shape) # The first number should smaller than original (4966 for data1), the second number should be 116 or 117"
      ]
    },
    {
      "cell_type": "markdown",
      "metadata": {
        "id": "PSFYaMP1MpPF"
      },
      "source": [
        "---\n",
        "## **Week 4**"
      ]
    },
    {
      "cell_type": "markdown",
      "metadata": {
        "id": "zOE2ecRPQ0H1"
      },
      "source": [
        "## Data Preprocessing\n",
        "### Replace the string in \"marker\" columns by number so that computer can understand\n",
        "- \"Natural\" should be replaced by 0.\n",
        "- \"Attack\" should be replaced by 1."
      ]
    },
    {
      "cell_type": "code",
      "execution_count": null,
      "metadata": {
        "colab": {
          "base_uri": "https://localhost:8080/"
        },
        "id": "gr7dgNQTQ141",
        "outputId": "82094a5a-ae8d-45c5-902c-66edd46fcd3c"
      },
      "outputs": [
        {
          "output_type": "execute_result",
          "data": {
            "text/plain": [
              "0       Natural\n",
              "1       Natural\n",
              "2       Natural\n",
              "3       Natural\n",
              "4       Natural\n",
              "         ...   \n",
              "4961    Natural\n",
              "4962    Natural\n",
              "4963    Natural\n",
              "4964    Natural\n",
              "4965    Natural\n",
              "Name: marker, Length: 4618, dtype: object"
            ]
          },
          "metadata": {},
          "execution_count": 10
        }
      ],
      "source": [
        "data_before_split = copy_data.copy() # copy the dataset from week 3 for status presentation purpose.\n",
        "data_before_split['marker']\n"
      ]
    },
    {
      "cell_type": "code",
      "execution_count": null,
      "metadata": {
        "id": "r88p2NAAVtrt"
      },
      "outputs": [],
      "source": [
        "# Todo"
      ]
    },
    {
      "cell_type": "markdown",
      "metadata": {
        "id": "I4SCF0V3fuJE"
      },
      "source": [
        "### Split training and testing data (`x_train`, `x_test`, and `y_test`, x is the data and y is the label)\n",
        "- x is referring to the data and y is referring to the labels\n",
        "- Randomly choose half of the normal data for training, the rest half combined with all attack instances as testing set.\n",
        "- Keep the label during the splitting, separate them before normalization.\n"
      ]
    },
    {
      "cell_type": "code",
      "execution_count": null,
      "metadata": {
        "colab": {
          "base_uri": "https://localhost:8080/"
        },
        "id": "FQX_B3kiMNfB",
        "outputId": "e3925073-3651-4bb1-8644-a82d12ef64e6"
      },
      "outputs": [
        {
          "output_type": "stream",
          "name": "stdout",
          "text": [
            "Number of attack instances: 3610.\n",
            "Number of normal instances: 1008.\n"
          ]
        }
      ],
      "source": [
        "# Number of attack instances from all\n",
        "attack_count = data_before_split[data_before_split['marker'] == 'Attack'].shape[0] # count the number of instances that marker is 'Attack'\n",
        "natural_count = data_before_split[data_before_split['marker'] == 'Natural'].shape[0] # count the number of instances that marker is 'Natural'\n",
        "print(f'Number of attack instances: {attack_count}.\\nNumber of normal instances: {natural_count}.')"
      ]
    },
    {
      "cell_type": "markdown",
      "metadata": {
        "id": "iluBvFDMPL7y"
      },
      "source": [
        "- Based on the previous code block, our training data should contain 1008 ÷ 2 = 504 instances for `data1.csv`.\n",
        "- The testing dataset should remain balance to get the best detection performance. i.e., The number of normal instance data and attack instance should keep same.\n",
        "- Therefore, the next step is randomly select the same amount from attack data.\n",
        "- Here in `data1.csv`, you should randomly pick 504 (half of the normal instances data which will be used for testing) data points from all 3610 attack instances. `pandas.DataFrame.sample` might be the function you are looking for.\n",
        "- Then combine them with normal part as the final testing set.\n",
        "- After that our testing data in `data1.csv` should contain 504 + 504 = 1008 data instances, and ratio of the normal : attack is 1:1.\n",
        "- Your y_train should contain all value '0' if everything worked. we will not use y_train in the further step.\n",
        "![train_test_split.png](data:image/png;base64,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)"
      ]
    },
    {
      "cell_type": "code",
      "execution_count": null,
      "metadata": {
        "id": "O5q8PDG7MnIq"
      },
      "outputs": [],
      "source": [
        "# import random\n",
        "# #replace natural with 0 and attack with 1 in dataset\n",
        "# normal_replace = data_before_split.replace(regex=['Natural'],value='0')\n",
        "# replaced_data = normal_replace.replace(regex=['Attack'],value='1')\n"
      ]
    },
    {
      "cell_type": "code",
      "execution_count": null,
      "metadata": {
        "id": "fFaScWipMc-j"
      },
      "outputs": [],
      "source": [
        "# # Todo\n",
        "# import numpy as np\n",
        "# from sklearn.model_selection import train_test_split\n",
        "# #from sklearn.inspection import permutation_importance\n",
        "\n",
        "# X = replaced_data.drop('marker', axis=1)\n",
        "# y = replaced_data['marker']\n",
        "\n",
        "# #select only normal data\n",
        "# normal_data = replaced_data[replaced_data['marker'] == '0']\n",
        "\n",
        "# #split normal data into two for training set and then testing set\n",
        "# X_train = normal_data[:504] #randomize\n",
        "# y_train = X_train\n",
        "# normal_testing_data = normal_data[504:] #randomize\n",
        "\n",
        "# #select only attack data\n",
        "# attack_data = replaced_data[replaced_data['marker'] == '1']\n",
        "#  #sample only 504 attack instances randomly\n",
        "# attack_testing = attack_data.sample(n=504, random_state=1)\n",
        "\n",
        "# #combine previously split normal and attack data for testing\n",
        "# #.append still works for now\n",
        "# X_test = normal_testing_data.append(attack_testing)\n",
        "# y_test = normal_testing_data.append(attack_testing)\n",
        "\n",
        "\n",
        "# copy_data.describe()"
      ]
    },
    {
      "cell_type": "code",
      "execution_count": null,
      "metadata": {
        "id": "CzqrIi8CvCC7"
      },
      "outputs": [],
      "source": [
        "# this is how I did mine I'm not sure how right it is though\n",
        "# This is correct, only minor error: X should be the data without label.\n",
        "import numpy as np\n",
        "# from sklearn.model_selection import train_test_split\n",
        "\n",
        "replaced_values = {'Natural' : 0, 'Attack': 1} # changing values in marker column\n",
        "copy_data_replaced = copy_data.copy() # copying data from week 3\n",
        "copy_data_replaced = copy_data_replaced.replace({'marker': replaced_values}) # replacing values in marker column\n",
        "\n",
        "#creating X and y values\n",
        "X = copy_data_replaced\n",
        "y = copy_data_replaced['marker']\n",
        "\n",
        "# splitting the training and testing data\n",
        "# X_train, X_test, y_train, y_test = train_test_split(X, y, test_size=0.25)\n",
        "normal = copy_data_replaced.loc[copy_data_replaced['marker'] == 0]   # splicing normal data from dataset\n",
        "attack = copy_data_replaced.loc[copy_data_replaced['marker'] == 1]   # splicing attack data from dataset\n",
        "\n",
        "# sample it twice cannot gurantee there are not overlapping.\n",
        "normal = normal.sample(frac=1)  # making training data 50% of normal data\n",
        "# find the middle\n",
        "middle = len(normal) // 2\n",
        "\n",
        "# split the normal\n",
        "train = normal.iloc[:middle]\n",
        "X_train = train.iloc[:,:116] # remove the label column\n",
        "\n",
        "y_train = train['marker'] # useless in semi-supervised anomaly detection\n",
        "normal_test = normal.iloc[middle:]   # Should be \"middle:\" not \":middle\"\n",
        "attack_test = attack.sample(n = normal_test.shape[0])    # selecting same samples of attack data\n",
        "\n",
        "# combining the dataframes\n",
        "testing_data = [normal_test, attack_test]  #creating a list of the dataframes\n",
        "X_test = pd.concat(testing_data).iloc[:,:116] # combining normal and attack\n",
        "y_test = pd.concat(testing_data)['marker']\n"
      ]
    },
    {
      "cell_type": "code",
      "execution_count": null,
      "metadata": {
        "colab": {
          "base_uri": "https://localhost:8080/"
        },
        "id": "whHrfc0Lfb6-",
        "outputId": "d1491ac1-cb01-49f0-ba89-86f0308746a3"
      },
      "outputs": [
        {
          "output_type": "stream",
          "name": "stdout",
          "text": [
            "Shape: \n",
            "X_train:(504, 116)\n",
            "X_test:(1008, 116)\n",
            "Check the labels: \n",
            "sum of the y_train, should be 0: 0\n",
            "sum of the y_test, should be half length of the testing set (half 0 and half 1): 504\n"
          ]
        }
      ],
      "source": [
        "# X_train, y_train = X_train.iloc[:,:116], X_train['marker']\n",
        "# y_train\n",
        "print(f'Shape: \\nX_train:{X_train.shape}\\nX_test:{X_test.shape}')\n",
        "print(f'Check the labels: \\nsum of the y_train, should be 0: {y_train.sum()}\\nsum of the y_test, should be half length of the testing set (half 0 and half 1): {y_test.sum()}')"
      ]
    },
    {
      "cell_type": "markdown",
      "metadata": {
        "id": "esEoPVCpfuJE"
      },
      "source": [
        "## Normalization\n",
        "- Fit the model with training data\n",
        "- Transform both training and testing data using fitted scaler"
      ]
    },
    {
      "cell_type": "code",
      "execution_count": null,
      "metadata": {
        "id": "uA-q34LkfuJF"
      },
      "outputs": [],
      "source": [
        "# Todo\n",
        "from sklearn.preprocessing import MinMaxScaler\n",
        "\n",
        "scaler = MinMaxScaler()    # create a scaler object\n",
        "\n",
        "scaler.fit(X_train)       #  fit on training data\n",
        "\n",
        "X_train_scaled = scaler.transform(X_train)   # transform both traing and testing data using fitted scaler\n",
        "X_test_scaled = scaler.transform(X_test)"
      ]
    },
    {
      "cell_type": "markdown",
      "metadata": {
        "id": "-kTsolSQfuJF"
      },
      "source": [
        "## Feature Extraction (PCA)\n",
        "### When implementing this, move this and following code blocks right before the machine learning part (after normalization)!\n",
        "\n",
        "- Uncomment the following code block if you are not testing the PCA feature extraction!"
      ]
    },
    {
      "cell_type": "code",
      "execution_count": null,
      "metadata": {
        "id": "PiMMSftafuJF"
      },
      "outputs": [],
      "source": [
        "\n",
        "# from sklearn.decomposition import PCA\n",
        "# pca = PCA(n_components=29)\n",
        "\n",
        "# X_train_scaled = pca.fit_transform(X_train_scaled)\n",
        "# X_test_scaled = pca.transform(X_test_scaled)\n"
      ]
    },
    {
      "cell_type": "markdown",
      "metadata": {
        "id": "i4BuZTxMMc-k"
      },
      "source": [
        "## Feature Extraction (Auto-Encoder)\n",
        "- Uncomment the following 3 code blocks if you are not testing the Auto-encoder feature extraction!"
      ]
    },
    {
      "cell_type": "code",
      "execution_count": null,
      "metadata": {
        "id": "KRoc8A0xTses"
      },
      "outputs": [],
      "source": [
        "# import tensorflow as tf\n",
        "# from tensorflow.keras.layers import Input, Dense\n",
        "# from tensorflow.keras.models import Model\n",
        "\n",
        "# # Dimension of input and output\n",
        "# input_dim = 116\n",
        "\n",
        "# # Dimension of encoder layers\n",
        "# encoding_dim1 = 58\n",
        "# encoding_dim2 = 29\n",
        "\n",
        "# # Define input layer\n",
        "# input_layer = Input(shape=(input_dim,))\n",
        "\n",
        "# # Define encoding layers\n",
        "# encoder_layer1 = Dense(encoding_dim1, activation='linear')(input_layer)\n",
        "# encoder_layer2 = Dense(encoding_dim2, activation='linear')(encoder_layer1)\n",
        "\n",
        "# # Define decoding layers\n",
        "# decoder_layer1 = Dense(encoding_dim1, activation='linear')(encoder_layer2)\n",
        "# decoder_layer2 = Dense(input_dim, activation='linear')(decoder_layer1)\n",
        "\n",
        "# # Create the autoencoder model\n",
        "# autoencoder = Model(inputs=input_layer, outputs=decoder_layer2)\n",
        "\n",
        "# # Compile the model\n",
        "# autoencoder.compile(optimizer='adam', loss='mse')\n"
      ]
    },
    {
      "cell_type": "code",
      "execution_count": null,
      "metadata": {
        "id": "Kby_mwME-lFd"
      },
      "outputs": [],
      "source": [
        "# #assuming x_train is your input data\n",
        "# autoencoder.fit(X_train_scaled, X_train_scaled,\n",
        "#                 epochs=100,\n",
        "#                 batch_size=20,\n",
        "#                 shuffle=True)\n",
        "\n",
        "# # Define the encoder model\n",
        "# encoder = Model(inputs=input_layer, outputs=encoder_layer2)"
      ]
    },
    {
      "cell_type": "code",
      "execution_count": null,
      "metadata": {
        "id": "fFac92cDNK4G"
      },
      "outputs": [],
      "source": [
        "#Extract features with trained auto-encoder network with only encoder part.\n",
        "# X_train_scaled = encoder.predict(X_train_scaled)\n",
        "# X_test_scaled = encoder.predict(X_test_scaled)\n"
      ]
    },
    {
      "cell_type": "markdown",
      "metadata": {
        "id": "QEK0klGFfuJF"
      },
      "source": [
        "## Machine Learning and Evaluation\n",
        "### **Week 5**\n",
        "- What we have now:\n",
        "  - `X_train_scaled`: The normalized training data.\n",
        "  - `X_test_scaled`: The normalized testing data.\n",
        "  - `y_train`: Label of the training data, all 0, should not use.\n",
        "  - `y_test`: Label of the testing data, binary label contains 0 and 1.\n",
        "- Test machine learning algorithms with our processed data.\n",
        "  - pyOD library:\n",
        "    - https://pyod.readthedocs.io/en/latest/index.html\n",
        "  - Three assigned algorithms will be tested in our project (each team member test one, you can claim your choice here, double click the block for editing):\n",
        "    - K-nearest-neighbor (KNN) Jacqueline Chavez\n",
        "    - Angle-based outlier detection (ABOD) Alanah Cheng\n",
        "    - One class support vector machine (OCSVM) Angelah Magofna\n",
        "  - Test extra three algorithms from pyod library or the paper (each team member test one, you can claim your choice here).\n",
        "    \n",
        "    -Isolation Forest (Jacqueline Chavez)\n",
        "    -  CBLOF (Angelah Magofna)\n",
        "    -\n",
        "  - `fit()` the model with training data (`x_train`).\n",
        "  - Test the model with testing data (`x_test`) and get their anomaly score with `decision_function()` (do not use predict function).\n",
        "- Compute the AUC score\n",
        "  - https://scikit-learn.org/stable/modules/generated/sklearn.metrics.roc_auc_score.html\n",
        "  - Here `y_true` is the data we processed from last week (`y_test`), `y_score` is the anomaly score you just get.\n",
        "  - AUC score is range from 0 to 1, the higher the better.\n",
        "- Then adjust the parameter of the algorithms to improve the AUC score. Read the paper and understand the principle of the algorithms might help."
      ]
    },
    {
      "cell_type": "code",
      "execution_count": null,
      "metadata": {
        "id": "KUFFluQzqJEJ"
      },
      "outputs": [],
      "source": [
        "# check if pyod is installed correctly\n",
        "import pyod"
      ]
    },
    {
      "cell_type": "code",
      "execution_count": null,
      "metadata": {
        "colab": {
          "base_uri": "https://localhost:8080/"
        },
        "id": "THhqnA0mfuJF",
        "outputId": "cd56efc4-2ab5-43b3-dc91-1acd71ec4b7b"
      },
      "outputs": [
        {
          "output_type": "execute_result",
          "data": {
            "text/plain": [
              "0.6931138196019149"
            ]
          },
          "metadata": {},
          "execution_count": 23
        }
      ],
      "source": [
        "# put your 2 models with well adjusted parameter here!\n",
        "# e.g.: KNN(n_neighbors=xxx)\n",
        "# And of course the evaluation process to get the AUC score\n",
        "# Todo\n",
        "#KNN\n",
        "from pyod.models.knn import KNN\n",
        "#improved parameters\n",
        "clf = KNN(n_neighbors= 5, algorithm=\"auto\")\n",
        "#fit model\n",
        "clf.fit(X_train_scaled)\n",
        "y_pred_scoreknn = clf.decision_function(X_test_scaled)\n",
        "\n",
        "\n",
        "from sklearn.metrics import roc_auc_score\n",
        "#AUC score\n",
        "roc_auc_score(y_test, y_pred_scoreknn)\n"
      ]
    },
    {
      "cell_type": "code",
      "execution_count": null,
      "metadata": {
        "id": "s_yCnAG3X5g_",
        "colab": {
          "base_uri": "https://localhost:8080/"
        },
        "outputId": "6863feeb-0621-4782-8a6e-0b73c3560562"
      },
      "outputs": [
        {
          "output_type": "execute_result",
          "data": {
            "text/plain": [
              "0.805045745149912"
            ]
          },
          "metadata": {},
          "execution_count": 24
        }
      ],
      "source": [
        "# OCSVM algorithm\n",
        "from pyod.models.ocsvm import OCSVM\n",
        "\n",
        "clf_OCSVM = OCSVM(kernel='rbf', gamma=100)  # adjusted parameters\n",
        "clf_OCSVM.fit(X_train_scaled) # fitting model\n",
        "\n",
        "y_pred_scoreocsvm = clf_OCSVM.decision_function(X_test_scaled) # test model with testing data\n",
        "\n",
        "from sklearn.metrics import roc_auc_score\n",
        "# AUC score\n",
        "roc_auc_score(y_test, y_pred_scoreocsvm)"
      ]
    },
    {
      "cell_type": "code",
      "source": [
        "from pyod.models.gmm import GMM\n",
        "from pyod.utils.data import generate_data\n",
        "\n",
        "clf_gmm = GMM(n_components=500)\n",
        "clf_gmm.fit(X_train_scaled)\n",
        "Y_pred_scoregmm = clf_gmm.decision_function(X_test_scaled)\n",
        "\n",
        "from sklearn.metrics import roc_auc_score\n",
        "# evaluation with AUC score\n",
        "roc_auc_score(y_test, Y_pred_scoregmm)"
      ],
      "metadata": {
        "colab": {
          "base_uri": "https://localhost:8080/"
        },
        "id": "aC7gqAmv0Zbi",
        "outputId": "ed811644-2b1b-4f71-a43b-fd164ee285fc"
      },
      "execution_count": null,
      "outputs": [
        {
          "output_type": "execute_result",
          "data": {
            "text/plain": [
              "0.8075514928193499"
            ]
          },
          "metadata": {},
          "execution_count": 25
        }
      ]
    },
    {
      "cell_type": "code",
      "execution_count": null,
      "metadata": {
        "id": "yd_FjWKfX6fG"
      },
      "outputs": [],
      "source": [
        "# # CBLOF algorithm\n",
        "# from pyod.models.cblof import CBLOF\n",
        "\n",
        "# clf_CBLOF = CBLOF(n_clusters=100, alpha=0.9, beta=5) # improved parameters\n",
        "# clf_CBLOF.fit(X_train_scaled)  # fitting the model\n",
        "# y_pred_scorecblof = clf_CBLOF.decision_function(X_test_scaled)   # testing model with testing data\n",
        "# # AUC score\n",
        "# roc_auc_score(y_test, y_pred_scorecblof)"
      ]
    },
    {
      "cell_type": "code",
      "execution_count": null,
      "metadata": {
        "id": "UGXQlSreF5SQ"
      },
      "outputs": [],
      "source": [
        "\n",
        "# #isolation forest\n",
        "# from pyod.models.iforest import IsolationForest\n",
        "# #improved parameters\n",
        "# model=IsolationForest(n_estimators=100,max_samples='auto')\n",
        "# #fit model\n",
        "# model.fit(X_train_scaled)\n",
        "# #get parameters\n",
        "# print(model.get_params())\n",
        "# results = model.decision_function(X_test_scaled)\n",
        "# #AUC score\n",
        "# roc_auc_score(y_test, results)"
      ]
    },
    {
      "cell_type": "code",
      "execution_count": null,
      "metadata": {
        "id": "m6cg_NIhNL2F"
      },
      "outputs": [],
      "source": [
        "#ABOD algorithm from Alanah\n",
        "# import pyod\n",
        "# from pyod.models.abod import ABOD\n",
        "# from pyod.utils.data import generate_data\n",
        "\n",
        "\n",
        "# clf_abod = ABOD()\n",
        "# clf_abod.fit(X_train_scaled)\n",
        "# Y_pred_score = clf_abod.decision_function(X_test_scaled)\n",
        "\n",
        "# from sklearn.metrics import roc_auc_score\n",
        "# # evaluation with AUC score\n",
        "# roc_auc_score(y_test, Y_pred_score)"
      ]
    },
    {
      "cell_type": "markdown",
      "metadata": {
        "id": "nxnuZh4AfuJG"
      },
      "source": [
        "## Plot the ROC curve"
      ]
    },
    {
      "cell_type": "code",
      "execution_count": null,
      "metadata": {
        "colab": {
          "base_uri": "https://localhost:8080/",
          "height": 245
        },
        "id": "IuyeORd6fuJG",
        "outputId": "add8ad58-684f-4663-e838-43531c90a42d"
      },
      "outputs": [
        {
          "output_type": "error",
          "ename": "NameError",
          "evalue": "ignored",
          "traceback": [
            "\u001b[0;31m---------------------------------------------------------------------------\u001b[0m",
            "\u001b[0;31mNameError\u001b[0m                                 Traceback (most recent call last)",
            "\u001b[0;32m<ipython-input-1-337852cba964>\u001b[0m in \u001b[0;36m<cell line: 9>\u001b[0;34m()\u001b[0m\n\u001b[1;32m      7\u001b[0m \u001b[0;34m\u001b[0m\u001b[0m\n\u001b[1;32m      8\u001b[0m \u001b[0;31m#roc curve for knn\u001b[0m\u001b[0;34m\u001b[0m\u001b[0;34m\u001b[0m\u001b[0m\n\u001b[0;32m----> 9\u001b[0;31m \u001b[0mfprknn\u001b[0m\u001b[0;34m,\u001b[0m \u001b[0mtprknn\u001b[0m\u001b[0;34m,\u001b[0m \u001b[0mthresholdsknn\u001b[0m \u001b[0;34m=\u001b[0m \u001b[0mroc_curve\u001b[0m\u001b[0;34m(\u001b[0m\u001b[0my_test\u001b[0m\u001b[0;34m,\u001b[0m\u001b[0my_pred_scoreknn\u001b[0m\u001b[0;34m,\u001b[0m \u001b[0mpos_label\u001b[0m\u001b[0;34m=\u001b[0m\u001b[0;36m1\u001b[0m\u001b[0;34m)\u001b[0m\u001b[0;34m\u001b[0m\u001b[0;34m\u001b[0m\u001b[0m\n\u001b[0m\u001b[1;32m     10\u001b[0m \u001b[0mroc_aucknn\u001b[0m \u001b[0;34m=\u001b[0m \u001b[0mauc\u001b[0m\u001b[0;34m(\u001b[0m\u001b[0mfprknn\u001b[0m\u001b[0;34m,\u001b[0m \u001b[0mtprknn\u001b[0m\u001b[0;34m)\u001b[0m\u001b[0;34m\u001b[0m\u001b[0;34m\u001b[0m\u001b[0m\n\u001b[1;32m     11\u001b[0m \u001b[0;34m\u001b[0m\u001b[0m\n",
            "\u001b[0;31mNameError\u001b[0m: name 'y_test' is not defined"
          ]
        }
      ],
      "source": [
        "import matplotlib.pyplot as plt\n",
        "from sklearn.metrics import roc_curve, auc\n",
        "\n",
        "# roc curve for isolation forest\n",
        "# fpr, tpr, thresholds = roc_curve(y_test,results, pos_label=1)\n",
        "# roc_auc = auc(fpr, tpr)\n",
        "\n",
        "#roc curve for knn\n",
        "fprknn, tprknn, thresholdsknn = roc_curve(y_test,y_pred_scoreknn, pos_label=1)\n",
        "roc_aucknn = auc(fprknn, tprknn)\n",
        "\n",
        "# # roc curve for OCSVM\n",
        "fpr_OCSVM, tpr_OCSVM, thresholds_OCSVM = roc_curve(y_test, y_pred_scoreocsvm, pos_label=1)\n",
        "roc_auc_OCSVM = auc(fpr_OCSVM, tpr_OCSVM)\n",
        "\n",
        "# roc curve for CBLOF\n",
        "# fpr_CBLOF, tpr_CBLOF, thresholds_CBLOF = roc_curve(y_test, y_pred_scorecblof, pos_label=1)\n",
        "# roc_auc_CBLOF = auc(fpr_CBLOF, tpr_CBLOF)\n",
        "\n",
        "# roc curve for GMM\n",
        "fpr_GMM, tpr_GMM, thresholds_GMM = roc_curve(y_test, Y_pred_scoregmm, pos_label=1)\n",
        "roc_auc_GMM = auc(fpr_GMM, tpr_GMM)\n",
        "\n",
        "#graph\n",
        "fig, ax = plt.subplots(figsize=(7.5, 7.5))\n",
        "\n",
        "plt.plot(fprknn, tprknn, label='ROC Curve for K-nearest-neighbor')\n",
        "# plt.plot(fpr, tpr, label='ROC Curve for IsolationForest')\n",
        "plt.plot(fpr_OCSVM, tpr_OCSVM, label='ROC Curve for OCSVM')    # plot for OCSVM\n",
        "# plt.plot(fpr_CBLOF, tpr_CBLOF, label='ROC Curve for CBLOF')    # plot for CBLOF\n",
        "plt.plot(fpr_GMM, tpr_GMM, label='ROC Curve for GMM')\n",
        "plt.xlim([-0.05, 1.05])\n",
        "plt.ylim([-0.05, 1.05])\n",
        "plt.xlabel('False positive rate')\n",
        "plt.ylabel('True positive rate')\n",
        "plt.legend(loc=\"lower right\")\n",
        "plt.title('ROC CURVE')\n",
        "plt.show()"
      ]
    },
    {
      "cell_type": "code",
      "execution_count": null,
      "metadata": {
        "id": "v6-n_Q4crD01"
      },
      "outputs": [],
      "source": [
        "# # ROC curve graph for OCSVM and CBLOF\n",
        "# import matplotlib.pyplot as plt\n",
        "#  from sklearn.metrics import roc_curve, auc\n",
        "\n",
        "# #roc curve for OCSVM\n",
        "# fpr_OCSVM, tpr_OCSVM, thresholds_OCSVM = roc_curve(y_test, y_pred_scoreocsvm, pos_label=1)\n",
        "# roc_auc_OCSVM = auc(fpr_OCSVM, tpr_OCSVM)\n",
        "\n",
        "# #roc curve for CBLOF\n",
        "# fpr_CBLOF, tpr_CBLOF, thresholds_CBLOF = roc_curve(y_test, y_pred_scorecblof, pos_label=1)\n",
        "#  roc_auc_CBLOF = auc(fpr_CBLOF, tpr_CBLOF)\n",
        "\n",
        "# # plotting\n",
        "#  plt.title('ROC Curve')  # adding plot title\n",
        "#  plt.plot(fpr_OCSVM, tpr_OCSVM, label='ROC Curve for OCSVM')    # plot for OCSVM\n",
        "#  plt.plot(fpr_CBLOF, tpr_CBLOF, label='ROC Curve for CBLOF')    # plot for CBLOF\n",
        "#  plt.legend(loc='lower right')   # locking legend to lower right position\n",
        "#  plt.xlim([0, 1])# plt.ylim([0, 1])\n",
        "#  plt.ylabel('True Positive Rate')   # naming y label\n",
        "#  plt.xlabel('False Positive Rate')   # naming x label\n",
        "#  plt.show()"
      ]
    },
    {
      "cell_type": "code",
      "source": [
        "import matplotlib.pyplot as plt\n",
        "y_axisknn = [0.7283, .6232, .6463, .6625, .6895, .5802, 0.640226229, 0.696292476, 0.678251317, 0.663220622, 0.580319433, 0.689148406, 0.667996729, 0.62572146, 0.690506089]\n",
        "y_axisocsvm = [.8440, 0.8022, 0.8235, 0.8377, 0.8558, .8052, 0.801229111, 0.843516531, 0.829034915, 0.841520889, 0.793369492, 0.836465505, 0.830201877, 0.80424022, 0.839408258]\n",
        "y_axis_gmm = [.849731, 0.799308,  0.822803, 0.834585, 0.854536, 0.795464, 0.808111684, 0.835979735, 0.828629097, 0.839498311, 0.792789743, 0.834045391, 0.834810463, 0.798829547, 0.838661918]\n",
        "x_axis = [1, 2, 3, 4, 5, 6, 7, 8, 9, 10, 11, 12, 13, 14, 15]\n",
        "plt.figure(num = 3, figsize=(8, 5))\n",
        "plt.plot(x_axis, y_axisknn, color = 'red', label = 'KNNOD')\n",
        "plt.plot(x_axis, y_axisocsvm, color='blue', label='OCSVM')\n",
        "plt.plot(x_axis, y_axis_gmm, color ='maroon', label = 'GMM')\n",
        "plt.xlabel('Dataset')\n",
        "plt.ylabel('AUC')\n",
        "plt.title('AUC Scores Across All Datasets')\n",
        "plt.legend(loc=\"lower right\")\n",
        "plt.xlim((1, 15))\n",
        "plt.ylim((.55, .87))"
      ],
      "metadata": {
        "colab": {
          "base_uri": "https://localhost:8080/",
          "height": 504
        },
        "id": "HwtFusN2j3-2",
        "outputId": "5e6c6c09-08b9-403e-a2b5-5946ffbeb83a"
      },
      "execution_count": null,
      "outputs": [
        {
          "output_type": "execute_result",
          "data": {
            "text/plain": [
              "(0.55, 0.87)"
            ]
          },
          "metadata": {},
          "execution_count": 31
        },
        {
          "output_type": "display_data",
          "data": {
            "text/plain": [
              "<Figure size 800x500 with 1 Axes>"
            ],
            "image/png": "[encoded data removed]"
          },
          "metadata": {}
        }
      ]
    },
    {
      "cell_type": "code",
      "source": [
        "import numpy as np\n",
        "algos = (\"KNNOD\", \"OCSVM\", \"GMM\")\n",
        "algos_avg = {\n",
        "    'All features': (.7091, 0.8269, 0.8293),\n",
        "    'PCA': (0.7184, 0.8245, 0.8260),\n",
        "    'Auto-encoder': (.7221, 0.8214, 0.8268),\n",
        "}\n",
        "x = np.arange(len(algos))\n",
        "width = 0.25\n",
        "fig, ax = plt.subplots(layout='constrained')\n",
        "\n",
        "#loop through python dictionary\n",
        "multiplier = 0\n",
        "for attribute, measurement in algos_avg.items():\n",
        "    offset = width * multiplier\n",
        "    rects = ax.bar(x + offset, measurement, width, label=attribute)\n",
        "    ax.bar_label(rects, padding=3)\n",
        "    multiplier += 1\n",
        "\n",
        "# labels, title and x-axis tick labels\n",
        "ax.set_ylabel('AUC')\n",
        "ax.set_ylim(0.6, 0.85)\n",
        "ax.set_title('AUC Scores with Feature Extraction')\n",
        "ax.set_xticks(x + width, algos)\n",
        "ax.legend(loc='lower right', ncols=3)"
      ],
      "metadata": {
        "colab": {
          "base_uri": "https://localhost:8080/",
          "height": 525
        },
        "id": "HCQpncDxrCHc",
        "outputId": "25d746aa-fcd2-453d-b61f-65457f451b43"
      },
      "execution_count": null,
      "outputs": [
        {
          "output_type": "execute_result",
          "data": {
            "text/plain": [
              "<matplotlib.legend.Legend at 0x7b2df75f4b20>"
            ]
          },
          "metadata": {},
          "execution_count": 32
        },
        {
          "output_type": "display_data",
          "data": {
            "text/plain": [
              "<Figure size 640x480 with 1 Axes>"
            ],
            "image/png": "[encoded data removed]"
          },
          "metadata": {}
        }
      ]
    }
  ],
  "metadata": {
    "colab": {
      "provenance": [],
      "include_colab_link": true
    },
    "interpreter": {
      "hash": "c4fe23e5802cc03bdd26495069cf3e038497ccc3e51c8c92ac0b78b23f1ec648"
    },
    "kernelspec": {
      "display_name": "Python 3.9.12 ('sod')",
      "language": "python",
      "name": "python3"
    },
    "language_info": {
      "codemirror_mode": {
        "name": "ipython",
        "version": 3
      },
      "file_extension": ".py",
      "mimetype": "text/x-python",
      "name": "python",
      "nbconvert_exporter": "python",
      "pygments_lexer": "ipython3",
      "version": "3.10.9"
    }
  },
  "nbformat": 4,
  "nbformat_minor": 0
}